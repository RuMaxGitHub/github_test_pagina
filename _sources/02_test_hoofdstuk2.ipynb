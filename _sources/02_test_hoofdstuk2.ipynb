{
 "cells": [
  {
   "cell_type": "markdown",
   "id": "881cbf2e-9e55-4b22-80f9-2d7fe68a9740",
   "metadata": {},
   "source": [
    "# Tweede hoofdstuk van test boek"
   ]
  },
  {
   "cell_type": "markdown",
   "id": "f5bd4454-335c-4f25-8ab4-66386fc900f4",
   "metadata": {},
   "source": [
    "Even wat tekst."
   ]
  },
  {
   "cell_type": "code",
   "execution_count": null,
   "id": "04db9d29-0ba2-4ef0-b983-791177642318",
   "metadata": {},
   "outputs": [],
   "source": []
  }
 ],
 "metadata": {
  "kernelspec": {
   "display_name": "Python 3 (ipykernel)",
   "language": "python",
   "name": "python3"
  },
  "language_info": {
   "codemirror_mode": {
    "name": "ipython",
    "version": 3
   },
   "file_extension": ".py",
   "mimetype": "text/x-python",
   "name": "python",
   "nbconvert_exporter": "python",
   "pygments_lexer": "ipython3",
   "version": "3.10.0"
  }
 },
 "nbformat": 4,
 "nbformat_minor": 5
}
